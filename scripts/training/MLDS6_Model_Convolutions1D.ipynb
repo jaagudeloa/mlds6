{
  "cells": [
    {
      "cell_type": "markdown",
      "source": [
        "## **Dependencias**\n",
        "---"
      ],
      "metadata": {
        "id": "Jef3oZWwSqYh"
      },
      "id": "Jef3oZWwSqYh"
    },
    {
      "cell_type": "code",
      "source": [
        "# Importamos las librerías necesarias para ejecutar el notebook\n",
        "import pandas as pd\n",
        "import numpy as np\n",
        "import string\n",
        "import tensorflow as tf\n",
        "import nltk\n",
        "nltk.download('punkt')\n",
        "from nltk.corpus import stopwords\n",
        "from nltk.tokenize import word_tokenize\n",
        "from gensim.models import Word2Vec\n",
        "from tensorflow.keras.preprocessing.text import Tokenizer\n",
        "from tensorflow.keras.preprocessing.sequence import pad_sequences\n",
        "from tensorflow.keras.layers import Embedding, Conv1D, MaxPooling1D, Flatten, Dense\n",
        "from tensorflow.keras.models import Sequential\n",
        "from sklearn.model_selection import train_test_split\n",
        "import matplotlib.pyplot as plt\n",
        "from sklearn.metrics import classification_report\n",
        "# Montamos drive para importar los datos\n",
        "from google.colab import drive\n",
        "drive.mount('/content/drive')"
      ],
      "metadata": {
        "colab": {
          "base_uri": "https://localhost:8080/"
        },
        "id": "v6DlWXBNStDJ",
        "outputId": "03313b1b-78ef-4ab8-e605-d343834bc6c2"
      },
      "execution_count": 1,
      "outputs": [
        {
          "output_type": "stream",
          "name": "stderr",
          "text": [
            "[nltk_data] Downloading package punkt to /root/nltk_data...\n",
            "[nltk_data]   Unzipping tokenizers/punkt.zip.\n"
          ]
        },
        {
          "output_type": "stream",
          "name": "stdout",
          "text": [
            "Mounted at /content/drive\n"
          ]
        }
      ],
      "id": "v6DlWXBNStDJ"
    },
    {
      "cell_type": "markdown",
      "id": "85e590e3",
      "metadata": {
        "id": "85e590e3"
      },
      "source": [
        "# **0. Integrantes**\n",
        "---"
      ]
    },
    {
      "cell_type": "markdown",
      "source": [
        "Julián Agudelo: julianandresa@gmail.com\n",
        "\n",
        "Juan Manuel Anzola: anzolajm@gmail.com\n",
        "\n",
        "Jorge Ronsería: jorgeronseria@gmail.com"
      ],
      "metadata": {
        "id": "S4Gff1zQrvPI"
      },
      "id": "S4Gff1zQrvPI"
    },
    {
      "cell_type": "markdown",
      "metadata": {
        "id": "82ea3b5e"
      },
      "source": [
        "# **1. Entendimiento del Negocio y Carga de Textos**\n",
        "---\n"
      ],
      "id": "82ea3b5e"
    },
    {
      "cell_type": "markdown",
      "metadata": {
        "id": "fdb4c33d"
      },
      "source": [
        " **1.1 Marco de Proyecto**\n",
        "---\n",
        "\n"
      ],
      "id": "fdb4c33d"
    },
    {
      "cell_type": "markdown",
      "source": [
        "### **1.1.1. Contexto del problema**\n",
        "---"
      ],
      "metadata": {
        "id": "0mTaZ3AZkE89"
      },
      "id": "0mTaZ3AZkE89"
    },
    {
      "cell_type": "markdown",
      "metadata": {
        "id": "18d9305a"
      },
      "source": [
        "\n",
        "\n",
        "Desde principios del siglo XX, la humanidad ha venido viviendo una era dorada en donde las enfermedades infecciosas ocasionadas por bacterias parecieran cosa del pasado. Antibióticos como la penicilina, rifampicina, amoxicilina y otros, han hecho que el control de infecciones se vuelva un asunto relativamente trivial.\n",
        "Sin embargo, el uso y abuso de antibióticos en ambientes de granja y hospitales ha ejercido presión selectiva sobre bacterias patógenas, generando resistencias en muchas de ellas y convirtiéndolas en bacterias multiresistentes, varias de ellas resistentes a TODOS los antibióticos disponibles en el mercado. La humanidad vuelve a ser susceptible de muerte por causa de bacterias: Entramos en la era post-antibióticos.\n",
        "\n",
        "Como posibles soluciones a este problema, la humanidad se ha embarcado en buscar nuevas moléculas para controlar infecciones bacterianas. Uno de los tipos de moléculas prometedoras son los péptidos antimicrobianos. Estos son proteínas pequeñas que han mostrado tener actividad contra la proliferación de bacterias, pero también contra patologías humanas como el virus del SIDA y el cáncer.\n",
        "\n",
        "\n",
        "Transfondo del negocio\n",
        "\n",
        "- Beneficiarios: El dominio que potencialmente se benificiria de esto es el tratamiento de infecciones en medicina. Beneficiarios directos serían personas con infecciones bacterianas difíciles de tratar.\n",
        "- Problema a solucionar: Los pépidos antimicrobianos se constituyen como alternativa al uso de antibióticos debido a las resistencias desarrolladas por bacterias en muchos años de uso y abuso de los mismos."
      ],
      "id": "18d9305a"
    },
    {
      "cell_type": "markdown",
      "source": [
        "### **1.1.2. Alcance**\n",
        "---"
      ],
      "metadata": {
        "id": "MKVLJxvQkR7w"
      },
      "id": "MKVLJxvQkR7w"
    },
    {
      "cell_type": "markdown",
      "metadata": {
        "id": "d09c63e5"
      },
      "source": [
        "\n",
        "\n",
        "Inicialmente, este proyecto está encaminado generar clasificadores de péptidos antimicrobianos de acuerdo a sus posibles actividades. Se conocen aproximadamente 3000 moléculas de péptidos antimcrobianos, las cuales se utilizarían como set de entrenamiento para entrenar clasificadores basados en convoluciones.\n",
        "\n",
        "En vista de que el número de ejemplos es reducido (solamente 3000), se propone el uso de técnicas de aumentación para incrementar el número de ejemplos para entrenar la red neuronal. Esto se puede lograr mediante el cambio de alfabeto de los péptidos antimicrobianos. Para ello, en vez de utilizar el lenguaje de las proteínas, se utilizará el lenguaje del ADN, lo que incrementa el número de permutaciones posibles en la secuencia, aumentando el número de ejemplos para la red neuronal."
      ],
      "id": "d09c63e5"
    },
    {
      "cell_type": "markdown",
      "source": [
        "### **1.1.3. Plan**\n",
        "---"
      ],
      "metadata": {
        "id": "HXxlWE6rkZup"
      },
      "id": "HXxlWE6rkZup"
    },
    {
      "cell_type": "markdown",
      "metadata": {
        "id": "370e4a5d"
      },
      "source": [
        "![Gantt_MLDS5_2024.png](data:image/jpeg;base64,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)\n",
        "\n"
      ],
      "id": "370e4a5d"
    },
    {
      "cell_type": "markdown",
      "metadata": {
        "id": "4a4e145b"
      },
      "source": [
        "## **1.2. Definición del Corpus**\n",
        "---\n"
      ],
      "id": "4a4e145b"
    },
    {
      "cell_type": "markdown",
      "source": [
        "### **1.2.1 Origen**\n",
        "---"
      ],
      "metadata": {
        "id": "uMozvynikn2H"
      },
      "id": "uMozvynikn2H"
    },
    {
      "cell_type": "markdown",
      "metadata": {
        "id": "2c5f8274"
      },
      "source": [
        "Se utilizarán secuencias de proteínas en formato FASTA provenientes de la base de datos APD: Antimicrobial Peptide Database https://aps.unmc.edu/\n",
        "- Las secuencias en formato FASTA se convierten a formato CSV y se cargan como dataframe de Python\n",
        "- Los datos son esencialmente secuencias de texto.\n",
        "- Para hacer el data augmentation se propone seguir la metodología propuesta en este artículo: https://www.ncbi.nlm.nih.gov/pmc/articles/PMC9843584/"
      ],
      "id": "2c5f8274"
    },
    {
      "cell_type": "markdown",
      "source": [
        "### **1.2.1 Adquisición de los datos**\n",
        "---"
      ],
      "metadata": {
        "id": "p3jNCAWrMUdW"
      },
      "id": "p3jNCAWrMUdW"
    },
    {
      "cell_type": "code",
      "source": [
        "import pandas as pd\n",
        "peptides_df=pd.read_csv(\"/content/APD_sequence_release_09142020.TAB\", sep=\"\\t\", header=None)\n",
        "peptides_df.shape"
      ],
      "metadata": {
        "colab": {
          "base_uri": "https://localhost:8080/"
        },
        "id": "_H_fjJfeMeXS",
        "outputId": "99d9798e-3d98-4ffe-d203-a03c64d5d2bf"
      },
      "id": "_H_fjJfeMeXS",
      "execution_count": 3,
      "outputs": [
        {
          "output_type": "execute_result",
          "data": {
            "text/plain": [
              "(3167, 2)"
            ]
          },
          "metadata": {},
          "execution_count": 3
        }
      ]
    },
    {
      "cell_type": "code",
      "source": [
        "peptides_df.head()"
      ],
      "metadata": {
        "colab": {
          "base_uri": "https://localhost:8080/",
          "height": 206
        },
        "id": "MrN-r002MgE6",
        "outputId": "816eb746-a1df-472c-fea6-6dbdb816d0d8"
      },
      "id": "MrN-r002MgE6",
      "execution_count": 4,
      "outputs": [
        {
          "output_type": "execute_result",
          "data": {
            "text/plain": [
              "                                                   0  \\\n",
              "0  00001|Dermaseptin-B2 (XXA, DRS-B2,  Dermasepti...   \n",
              "1  00002|Abaecin (Pro-rich; insects, arthropods, ...   \n",
              "2  00003|Hs-AFP1 (HsAFP1, H. sanguinea antifungal...   \n",
              "3  00004|Ct-AMP1 (CtAMP1, C. ternatea-antimicrobi...   \n",
              "4  00005|Andropin (insects, arthropods,  inverteb...   \n",
              "\n",
              "                                                   1  \n",
              "0                  GLWSKIKEVGKEAAKAAAKAAGKAALGAVSEAV  \n",
              "1                 YVPLPNVPQPGRRPFPTFPGQGPFNPKIKWPQGY  \n",
              "2  DGVKLCDVPSGTWSGHCGSSSKCSQQCKDREHFAYGGACHYQFPSV...  \n",
              "3  NLCERASLTWTGNCGNTGHCDTQCRNWESAKHGACHKRGNWKCFCYFDC  \n",
              "4                 VFIDILDKVENAIHNAAQVGIGFAKPFEKLINPK  "
            ],
            "text/html": [
              "\n",
              "  <div id=\"df-9c7e0697-9087-474a-b5c5-84e7bee4047c\" class=\"colab-df-container\">\n",
              "    <div>\n",
              "<style scoped>\n",
              "    .dataframe tbody tr th:only-of-type {\n",
              "        vertical-align: middle;\n",
              "    }\n",
              "\n",
              "    .dataframe tbody tr th {\n",
              "        vertical-align: top;\n",
              "    }\n",
              "\n",
              "    .dataframe thead th {\n",
              "        text-align: right;\n",
              "    }\n",
              "</style>\n",
              "<table border=\"1\" class=\"dataframe\">\n",
              "  <thead>\n",
              "    <tr style=\"text-align: right;\">\n",
              "      <th></th>\n",
              "      <th>0</th>\n",
              "      <th>1</th>\n",
              "    </tr>\n",
              "  </thead>\n",
              "  <tbody>\n",
              "    <tr>\n",
              "      <th>0</th>\n",
              "      <td>00001|Dermaseptin-B2 (XXA, DRS-B2,  Dermasepti...</td>\n",
              "      <td>GLWSKIKEVGKEAAKAAAKAAGKAALGAVSEAV</td>\n",
              "    </tr>\n",
              "    <tr>\n",
              "      <th>1</th>\n",
              "      <td>00002|Abaecin (Pro-rich; insects, arthropods, ...</td>\n",
              "      <td>YVPLPNVPQPGRRPFPTFPGQGPFNPKIKWPQGY</td>\n",
              "    </tr>\n",
              "    <tr>\n",
              "      <th>2</th>\n",
              "      <td>00003|Hs-AFP1 (HsAFP1, H. sanguinea antifungal...</td>\n",
              "      <td>DGVKLCDVPSGTWSGHCGSSSKCSQQCKDREHFAYGGACHYQFPSV...</td>\n",
              "    </tr>\n",
              "    <tr>\n",
              "      <th>3</th>\n",
              "      <td>00004|Ct-AMP1 (CtAMP1, C. ternatea-antimicrobi...</td>\n",
              "      <td>NLCERASLTWTGNCGNTGHCDTQCRNWESAKHGACHKRGNWKCFCYFDC</td>\n",
              "    </tr>\n",
              "    <tr>\n",
              "      <th>4</th>\n",
              "      <td>00005|Andropin (insects, arthropods,  inverteb...</td>\n",
              "      <td>VFIDILDKVENAIHNAAQVGIGFAKPFEKLINPK</td>\n",
              "    </tr>\n",
              "  </tbody>\n",
              "</table>\n",
              "</div>\n",
              "    <div class=\"colab-df-buttons\">\n",
              "\n",
              "  <div class=\"colab-df-container\">\n",
              "    <button class=\"colab-df-convert\" onclick=\"convertToInteractive('df-9c7e0697-9087-474a-b5c5-84e7bee4047c')\"\n",
              "            title=\"Convert this dataframe to an interactive table.\"\n",
              "            style=\"display:none;\">\n",
              "\n",
              "  <svg xmlns=\"http://www.w3.org/2000/svg\" height=\"24px\" viewBox=\"0 -960 960 960\">\n",
              "    <path d=\"M120-120v-720h720v720H120Zm60-500h600v-160H180v160Zm220 220h160v-160H400v160Zm0 220h160v-160H400v160ZM180-400h160v-160H180v160Zm440 0h160v-160H620v160ZM180-180h160v-160H180v160Zm440 0h160v-160H620v160Z\"/>\n",
              "  </svg>\n",
              "    </button>\n",
              "\n",
              "  <style>\n",
              "    .colab-df-container {\n",
              "      display:flex;\n",
              "      gap: 12px;\n",
              "    }\n",
              "\n",
              "    .colab-df-convert {\n",
              "      background-color: #E8F0FE;\n",
              "      border: none;\n",
              "      border-radius: 50%;\n",
              "      cursor: pointer;\n",
              "      display: none;\n",
              "      fill: #1967D2;\n",
              "      height: 32px;\n",
              "      padding: 0 0 0 0;\n",
              "      width: 32px;\n",
              "    }\n",
              "\n",
              "    .colab-df-convert:hover {\n",
              "      background-color: #E2EBFA;\n",
              "      box-shadow: 0px 1px 2px rgba(60, 64, 67, 0.3), 0px 1px 3px 1px rgba(60, 64, 67, 0.15);\n",
              "      fill: #174EA6;\n",
              "    }\n",
              "\n",
              "    .colab-df-buttons div {\n",
              "      margin-bottom: 4px;\n",
              "    }\n",
              "\n",
              "    [theme=dark] .colab-df-convert {\n",
              "      background-color: #3B4455;\n",
              "      fill: #D2E3FC;\n",
              "    }\n",
              "\n",
              "    [theme=dark] .colab-df-convert:hover {\n",
              "      background-color: #434B5C;\n",
              "      box-shadow: 0px 1px 3px 1px rgba(0, 0, 0, 0.15);\n",
              "      filter: drop-shadow(0px 1px 2px rgba(0, 0, 0, 0.3));\n",
              "      fill: #FFFFFF;\n",
              "    }\n",
              "  </style>\n",
              "\n",
              "    <script>\n",
              "      const buttonEl =\n",
              "        document.querySelector('#df-9c7e0697-9087-474a-b5c5-84e7bee4047c button.colab-df-convert');\n",
              "      buttonEl.style.display =\n",
              "        google.colab.kernel.accessAllowed ? 'block' : 'none';\n",
              "\n",
              "      async function convertToInteractive(key) {\n",
              "        const element = document.querySelector('#df-9c7e0697-9087-474a-b5c5-84e7bee4047c');\n",
              "        const dataTable =\n",
              "          await google.colab.kernel.invokeFunction('convertToInteractive',\n",
              "                                                    [key], {});\n",
              "        if (!dataTable) return;\n",
              "\n",
              "        const docLinkHtml = 'Like what you see? Visit the ' +\n",
              "          '<a target=\"_blank\" href=https://colab.research.google.com/notebooks/data_table.ipynb>data table notebook</a>'\n",
              "          + ' to learn more about interactive tables.';\n",
              "        element.innerHTML = '';\n",
              "        dataTable['output_type'] = 'display_data';\n",
              "        await google.colab.output.renderOutput(dataTable, element);\n",
              "        const docLink = document.createElement('div');\n",
              "        docLink.innerHTML = docLinkHtml;\n",
              "        element.appendChild(docLink);\n",
              "      }\n",
              "    </script>\n",
              "  </div>\n",
              "\n",
              "\n",
              "<div id=\"df-db145336-b1c1-4f3b-b307-c1d06a1c075d\">\n",
              "  <button class=\"colab-df-quickchart\" onclick=\"quickchart('df-db145336-b1c1-4f3b-b307-c1d06a1c075d')\"\n",
              "            title=\"Suggest charts\"\n",
              "            style=\"display:none;\">\n",
              "\n",
              "<svg xmlns=\"http://www.w3.org/2000/svg\" height=\"24px\"viewBox=\"0 0 24 24\"\n",
              "     width=\"24px\">\n",
              "    <g>\n",
              "        <path d=\"M19 3H5c-1.1 0-2 .9-2 2v14c0 1.1.9 2 2 2h14c1.1 0 2-.9 2-2V5c0-1.1-.9-2-2-2zM9 17H7v-7h2v7zm4 0h-2V7h2v10zm4 0h-2v-4h2v4z\"/>\n",
              "    </g>\n",
              "</svg>\n",
              "  </button>\n",
              "\n",
              "<style>\n",
              "  .colab-df-quickchart {\n",
              "      --bg-color: #E8F0FE;\n",
              "      --fill-color: #1967D2;\n",
              "      --hover-bg-color: #E2EBFA;\n",
              "      --hover-fill-color: #174EA6;\n",
              "      --disabled-fill-color: #AAA;\n",
              "      --disabled-bg-color: #DDD;\n",
              "  }\n",
              "\n",
              "  [theme=dark] .colab-df-quickchart {\n",
              "      --bg-color: #3B4455;\n",
              "      --fill-color: #D2E3FC;\n",
              "      --hover-bg-color: #434B5C;\n",
              "      --hover-fill-color: #FFFFFF;\n",
              "      --disabled-bg-color: #3B4455;\n",
              "      --disabled-fill-color: #666;\n",
              "  }\n",
              "\n",
              "  .colab-df-quickchart {\n",
              "    background-color: var(--bg-color);\n",
              "    border: none;\n",
              "    border-radius: 50%;\n",
              "    cursor: pointer;\n",
              "    display: none;\n",
              "    fill: var(--fill-color);\n",
              "    height: 32px;\n",
              "    padding: 0;\n",
              "    width: 32px;\n",
              "  }\n",
              "\n",
              "  .colab-df-quickchart:hover {\n",
              "    background-color: var(--hover-bg-color);\n",
              "    box-shadow: 0 1px 2px rgba(60, 64, 67, 0.3), 0 1px 3px 1px rgba(60, 64, 67, 0.15);\n",
              "    fill: var(--button-hover-fill-color);\n",
              "  }\n",
              "\n",
              "  .colab-df-quickchart-complete:disabled,\n",
              "  .colab-df-quickchart-complete:disabled:hover {\n",
              "    background-color: var(--disabled-bg-color);\n",
              "    fill: var(--disabled-fill-color);\n",
              "    box-shadow: none;\n",
              "  }\n",
              "\n",
              "  .colab-df-spinner {\n",
              "    border: 2px solid var(--fill-color);\n",
              "    border-color: transparent;\n",
              "    border-bottom-color: var(--fill-color);\n",
              "    animation:\n",
              "      spin 1s steps(1) infinite;\n",
              "  }\n",
              "\n",
              "  @keyframes spin {\n",
              "    0% {\n",
              "      border-color: transparent;\n",
              "      border-bottom-color: var(--fill-color);\n",
              "      border-left-color: var(--fill-color);\n",
              "    }\n",
              "    20% {\n",
              "      border-color: transparent;\n",
              "      border-left-color: var(--fill-color);\n",
              "      border-top-color: var(--fill-color);\n",
              "    }\n",
              "    30% {\n",
              "      border-color: transparent;\n",
              "      border-left-color: var(--fill-color);\n",
              "      border-top-color: var(--fill-color);\n",
              "      border-right-color: var(--fill-color);\n",
              "    }\n",
              "    40% {\n",
              "      border-color: transparent;\n",
              "      border-right-color: var(--fill-color);\n",
              "      border-top-color: var(--fill-color);\n",
              "    }\n",
              "    60% {\n",
              "      border-color: transparent;\n",
              "      border-right-color: var(--fill-color);\n",
              "    }\n",
              "    80% {\n",
              "      border-color: transparent;\n",
              "      border-right-color: var(--fill-color);\n",
              "      border-bottom-color: var(--fill-color);\n",
              "    }\n",
              "    90% {\n",
              "      border-color: transparent;\n",
              "      border-bottom-color: var(--fill-color);\n",
              "    }\n",
              "  }\n",
              "</style>\n",
              "\n",
              "  <script>\n",
              "    async function quickchart(key) {\n",
              "      const quickchartButtonEl =\n",
              "        document.querySelector('#' + key + ' button');\n",
              "      quickchartButtonEl.disabled = true;  // To prevent multiple clicks.\n",
              "      quickchartButtonEl.classList.add('colab-df-spinner');\n",
              "      try {\n",
              "        const charts = await google.colab.kernel.invokeFunction(\n",
              "            'suggestCharts', [key], {});\n",
              "      } catch (error) {\n",
              "        console.error('Error during call to suggestCharts:', error);\n",
              "      }\n",
              "      quickchartButtonEl.classList.remove('colab-df-spinner');\n",
              "      quickchartButtonEl.classList.add('colab-df-quickchart-complete');\n",
              "    }\n",
              "    (() => {\n",
              "      let quickchartButtonEl =\n",
              "        document.querySelector('#df-db145336-b1c1-4f3b-b307-c1d06a1c075d button');\n",
              "      quickchartButtonEl.style.display =\n",
              "        google.colab.kernel.accessAllowed ? 'block' : 'none';\n",
              "    })();\n",
              "  </script>\n",
              "</div>\n",
              "\n",
              "    </div>\n",
              "  </div>\n"
            ],
            "application/vnd.google.colaboratory.intrinsic+json": {
              "type": "dataframe",
              "variable_name": "peptides_df",
              "summary": "{\n  \"name\": \"peptides_df\",\n  \"rows\": 3167,\n  \"fields\": [\n    {\n      \"column\": 0,\n      \"properties\": {\n        \"dtype\": \"string\",\n        \"num_unique_values\": 3167,\n        \"samples\": [\n          \"00565|Dybowskin-2 (Brevinin-1CEa; Brevinin-1DYe;  frog, amphibians, animals; XXU; 1S=S, UCSS1a)\",\n          \"01331|Hylin a1 (hylin-a1; UCLL1c;  frog, amphibians, animals, XXA)\",\n          \"00171|Metchnikowin (Mtk-1, Pro-rich; insects, arthropods, invertebrates, animals)\"\n        ],\n        \"semantic_type\": \"\",\n        \"description\": \"\"\n      }\n    },\n    {\n      \"column\": 1,\n      \"properties\": {\n        \"dtype\": \"string\",\n        \"num_unique_values\": 3129,\n        \"samples\": [\n          \"AKAVKPKTAKPKTAKPKTAKA\",\n          \"PPHKKKLAVYPVFLFYLFLSWFSLIV\",\n          \"VCSCRLVFCRRTELRVGNCLIGGVSFTYCCTRV\"\n        ],\n        \"semantic_type\": \"\",\n        \"description\": \"\"\n      }\n    }\n  ]\n}"
            }
          },
          "metadata": {},
          "execution_count": 4
        }
      ]
    },
    {
      "cell_type": "markdown",
      "metadata": {
        "id": "53af2475"
      },
      "source": [
        "### **2.4. Data aumentation**\n",
        "---\n"
      ],
      "id": "53af2475"
    },
    {
      "cell_type": "markdown",
      "metadata": {
        "id": "2bd6f16f"
      },
      "source": [
        "Importamos el dataset con datos aumentados.\n",
        "El dataset original era aproximadamente de unos 2800 péptidos antimcrobianos divididos en 10 categorias de acuerdo a su actividad.\n",
        "\n",
        "Los péptidos fueron traducidos de una manera reversa a las posibles cadenas de ADN que los originaron y de ahí se hizo expansón de datos con base en la degeneración del código genético. Esto es posible ya que más de una tripleta puede codificar para un aminoácido. La gráfica muestra el ejemplo de Leucina, que puede ser codificada por seis diferentes tripletas. Esto da un universo de posibles combinaciones que permite expandir el dataset para hacerlo más apto a los métodos de deep learning.\n",
        "\n",
        "Cada secuencia de péptido fue expandida unas 100 veces. Para un total de unas 280000 secuencias."
      ],
      "id": "2bd6f16f"
    },
    {
      "cell_type": "markdown",
      "source": [
        " </img>![Genetic_Code_Degenerate.jpg](data:image/jpeg;base64,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)"
      ],
      "metadata": {
        "id": "85ukO0Cjmqlf"
      },
      "id": "85ukO0Cjmqlf"
    },
    {
      "cell_type": "code",
      "source": [
        "peptides_df=pd.read_csv(\"/content/all_peptides.top.categories.augmented.100.tab\", sep=\"\\t\", header=0)\n",
        "peptides_df.shape"
      ],
      "metadata": {
        "colab": {
          "base_uri": "https://localhost:8080/"
        },
        "id": "Z08085TLmxJW",
        "outputId": "8f6cab4a-bbf6-46e3-f55b-b6964f2e2950"
      },
      "id": "Z08085TLmxJW",
      "execution_count": 5,
      "outputs": [
        {
          "output_type": "execute_result",
          "data": {
            "text/plain": [
              "(243412, 2)"
            ]
          },
          "metadata": {},
          "execution_count": 5
        }
      ]
    },
    {
      "cell_type": "code",
      "source": [
        "# Miramos el encabezado del dataset\n",
        "peptides_df.head(5)"
      ],
      "metadata": {
        "colab": {
          "base_uri": "https://localhost:8080/",
          "height": 206
        },
        "id": "VXKHNGOxmzN1",
        "outputId": "d8fbf4f8-6175-4705-d9a8-8a319655e424"
      },
      "id": "VXKHNGOxmzN1",
      "execution_count": 6,
      "outputs": [
        {
          "output_type": "execute_result",
          "data": {
            "text/plain": [
              "                                      Peptide_as_DNA     Activity\n",
              "0  GGGTTTTGGACTAAAATCAAGGAGGTGGGTAAGGAGGCAGCGAAAG...  Anti_Cancer\n",
              "1  GGGTTATGGAGGAAAATTAAAGAGGTAGGGAAAGAGGCGGCGAAGG...  Anti_Cancer\n",
              "2  GGCCTGTGGTCGAAAATAAAAGAGGTTGGCAAGGAGGCTGCTAAAG...  Anti_Cancer\n",
              "3  GGACTTTGGTCGAAAATCAAAGAGGTCGGCAAGGAAGCCGCAAAGG...  Anti_Cancer\n",
              "4  GGGCTATGGAGTAAGATAAAAGAAGTCGGCAAGGAAGCGGCCAAAG...  Anti_Cancer"
            ],
            "text/html": [
              "\n",
              "  <div id=\"df-e9176b4b-ba22-4c51-af1c-1886de4f58b0\" class=\"colab-df-container\">\n",
              "    <div>\n",
              "<style scoped>\n",
              "    .dataframe tbody tr th:only-of-type {\n",
              "        vertical-align: middle;\n",
              "    }\n",
              "\n",
              "    .dataframe tbody tr th {\n",
              "        vertical-align: top;\n",
              "    }\n",
              "\n",
              "    .dataframe thead th {\n",
              "        text-align: right;\n",
              "    }\n",
              "</style>\n",
              "<table border=\"1\" class=\"dataframe\">\n",
              "  <thead>\n",
              "    <tr style=\"text-align: right;\">\n",
              "      <th></th>\n",
              "      <th>Peptide_as_DNA</th>\n",
              "      <th>Activity</th>\n",
              "    </tr>\n",
              "  </thead>\n",
              "  <tbody>\n",
              "    <tr>\n",
              "      <th>0</th>\n",
              "      <td>GGGTTTTGGACTAAAATCAAGGAGGTGGGTAAGGAGGCAGCGAAAG...</td>\n",
              "      <td>Anti_Cancer</td>\n",
              "    </tr>\n",
              "    <tr>\n",
              "      <th>1</th>\n",
              "      <td>GGGTTATGGAGGAAAATTAAAGAGGTAGGGAAAGAGGCGGCGAAGG...</td>\n",
              "      <td>Anti_Cancer</td>\n",
              "    </tr>\n",
              "    <tr>\n",
              "      <th>2</th>\n",
              "      <td>GGCCTGTGGTCGAAAATAAAAGAGGTTGGCAAGGAGGCTGCTAAAG...</td>\n",
              "      <td>Anti_Cancer</td>\n",
              "    </tr>\n",
              "    <tr>\n",
              "      <th>3</th>\n",
              "      <td>GGACTTTGGTCGAAAATCAAAGAGGTCGGCAAGGAAGCCGCAAAGG...</td>\n",
              "      <td>Anti_Cancer</td>\n",
              "    </tr>\n",
              "    <tr>\n",
              "      <th>4</th>\n",
              "      <td>GGGCTATGGAGTAAGATAAAAGAAGTCGGCAAGGAAGCGGCCAAAG...</td>\n",
              "      <td>Anti_Cancer</td>\n",
              "    </tr>\n",
              "  </tbody>\n",
              "</table>\n",
              "</div>\n",
              "    <div class=\"colab-df-buttons\">\n",
              "\n",
              "  <div class=\"colab-df-container\">\n",
              "    <button class=\"colab-df-convert\" onclick=\"convertToInteractive('df-e9176b4b-ba22-4c51-af1c-1886de4f58b0')\"\n",
              "            title=\"Convert this dataframe to an interactive table.\"\n",
              "            style=\"display:none;\">\n",
              "\n",
              "  <svg xmlns=\"http://www.w3.org/2000/svg\" height=\"24px\" viewBox=\"0 -960 960 960\">\n",
              "    <path d=\"M120-120v-720h720v720H120Zm60-500h600v-160H180v160Zm220 220h160v-160H400v160Zm0 220h160v-160H400v160ZM180-400h160v-160H180v160Zm440 0h160v-160H620v160ZM180-180h160v-160H180v160Zm440 0h160v-160H620v160Z\"/>\n",
              "  </svg>\n",
              "    </button>\n",
              "\n",
              "  <style>\n",
              "    .colab-df-container {\n",
              "      display:flex;\n",
              "      gap: 12px;\n",
              "    }\n",
              "\n",
              "    .colab-df-convert {\n",
              "      background-color: #E8F0FE;\n",
              "      border: none;\n",
              "      border-radius: 50%;\n",
              "      cursor: pointer;\n",
              "      display: none;\n",
              "      fill: #1967D2;\n",
              "      height: 32px;\n",
              "      padding: 0 0 0 0;\n",
              "      width: 32px;\n",
              "    }\n",
              "\n",
              "    .colab-df-convert:hover {\n",
              "      background-color: #E2EBFA;\n",
              "      box-shadow: 0px 1px 2px rgba(60, 64, 67, 0.3), 0px 1px 3px 1px rgba(60, 64, 67, 0.15);\n",
              "      fill: #174EA6;\n",
              "    }\n",
              "\n",
              "    .colab-df-buttons div {\n",
              "      margin-bottom: 4px;\n",
              "    }\n",
              "\n",
              "    [theme=dark] .colab-df-convert {\n",
              "      background-color: #3B4455;\n",
              "      fill: #D2E3FC;\n",
              "    }\n",
              "\n",
              "    [theme=dark] .colab-df-convert:hover {\n",
              "      background-color: #434B5C;\n",
              "      box-shadow: 0px 1px 3px 1px rgba(0, 0, 0, 0.15);\n",
              "      filter: drop-shadow(0px 1px 2px rgba(0, 0, 0, 0.3));\n",
              "      fill: #FFFFFF;\n",
              "    }\n",
              "  </style>\n",
              "\n",
              "    <script>\n",
              "      const buttonEl =\n",
              "        document.querySelector('#df-e9176b4b-ba22-4c51-af1c-1886de4f58b0 button.colab-df-convert');\n",
              "      buttonEl.style.display =\n",
              "        google.colab.kernel.accessAllowed ? 'block' : 'none';\n",
              "\n",
              "      async function convertToInteractive(key) {\n",
              "        const element = document.querySelector('#df-e9176b4b-ba22-4c51-af1c-1886de4f58b0');\n",
              "        const dataTable =\n",
              "          await google.colab.kernel.invokeFunction('convertToInteractive',\n",
              "                                                    [key], {});\n",
              "        if (!dataTable) return;\n",
              "\n",
              "        const docLinkHtml = 'Like what you see? Visit the ' +\n",
              "          '<a target=\"_blank\" href=https://colab.research.google.com/notebooks/data_table.ipynb>data table notebook</a>'\n",
              "          + ' to learn more about interactive tables.';\n",
              "        element.innerHTML = '';\n",
              "        dataTable['output_type'] = 'display_data';\n",
              "        await google.colab.output.renderOutput(dataTable, element);\n",
              "        const docLink = document.createElement('div');\n",
              "        docLink.innerHTML = docLinkHtml;\n",
              "        element.appendChild(docLink);\n",
              "      }\n",
              "    </script>\n",
              "  </div>\n",
              "\n",
              "\n",
              "<div id=\"df-54be0316-5eb4-46ff-9709-ecb9e3c212e9\">\n",
              "  <button class=\"colab-df-quickchart\" onclick=\"quickchart('df-54be0316-5eb4-46ff-9709-ecb9e3c212e9')\"\n",
              "            title=\"Suggest charts\"\n",
              "            style=\"display:none;\">\n",
              "\n",
              "<svg xmlns=\"http://www.w3.org/2000/svg\" height=\"24px\"viewBox=\"0 0 24 24\"\n",
              "     width=\"24px\">\n",
              "    <g>\n",
              "        <path d=\"M19 3H5c-1.1 0-2 .9-2 2v14c0 1.1.9 2 2 2h14c1.1 0 2-.9 2-2V5c0-1.1-.9-2-2-2zM9 17H7v-7h2v7zm4 0h-2V7h2v10zm4 0h-2v-4h2v4z\"/>\n",
              "    </g>\n",
              "</svg>\n",
              "  </button>\n",
              "\n",
              "<style>\n",
              "  .colab-df-quickchart {\n",
              "      --bg-color: #E8F0FE;\n",
              "      --fill-color: #1967D2;\n",
              "      --hover-bg-color: #E2EBFA;\n",
              "      --hover-fill-color: #174EA6;\n",
              "      --disabled-fill-color: #AAA;\n",
              "      --disabled-bg-color: #DDD;\n",
              "  }\n",
              "\n",
              "  [theme=dark] .colab-df-quickchart {\n",
              "      --bg-color: #3B4455;\n",
              "      --fill-color: #D2E3FC;\n",
              "      --hover-bg-color: #434B5C;\n",
              "      --hover-fill-color: #FFFFFF;\n",
              "      --disabled-bg-color: #3B4455;\n",
              "      --disabled-fill-color: #666;\n",
              "  }\n",
              "\n",
              "  .colab-df-quickchart {\n",
              "    background-color: var(--bg-color);\n",
              "    border: none;\n",
              "    border-radius: 50%;\n",
              "    cursor: pointer;\n",
              "    display: none;\n",
              "    fill: var(--fill-color);\n",
              "    height: 32px;\n",
              "    padding: 0;\n",
              "    width: 32px;\n",
              "  }\n",
              "\n",
              "  .colab-df-quickchart:hover {\n",
              "    background-color: var(--hover-bg-color);\n",
              "    box-shadow: 0 1px 2px rgba(60, 64, 67, 0.3), 0 1px 3px 1px rgba(60, 64, 67, 0.15);\n",
              "    fill: var(--button-hover-fill-color);\n",
              "  }\n",
              "\n",
              "  .colab-df-quickchart-complete:disabled,\n",
              "  .colab-df-quickchart-complete:disabled:hover {\n",
              "    background-color: var(--disabled-bg-color);\n",
              "    fill: var(--disabled-fill-color);\n",
              "    box-shadow: none;\n",
              "  }\n",
              "\n",
              "  .colab-df-spinner {\n",
              "    border: 2px solid var(--fill-color);\n",
              "    border-color: transparent;\n",
              "    border-bottom-color: var(--fill-color);\n",
              "    animation:\n",
              "      spin 1s steps(1) infinite;\n",
              "  }\n",
              "\n",
              "  @keyframes spin {\n",
              "    0% {\n",
              "      border-color: transparent;\n",
              "      border-bottom-color: var(--fill-color);\n",
              "      border-left-color: var(--fill-color);\n",
              "    }\n",
              "    20% {\n",
              "      border-color: transparent;\n",
              "      border-left-color: var(--fill-color);\n",
              "      border-top-color: var(--fill-color);\n",
              "    }\n",
              "    30% {\n",
              "      border-color: transparent;\n",
              "      border-left-color: var(--fill-color);\n",
              "      border-top-color: var(--fill-color);\n",
              "      border-right-color: var(--fill-color);\n",
              "    }\n",
              "    40% {\n",
              "      border-color: transparent;\n",
              "      border-right-color: var(--fill-color);\n",
              "      border-top-color: var(--fill-color);\n",
              "    }\n",
              "    60% {\n",
              "      border-color: transparent;\n",
              "      border-right-color: var(--fill-color);\n",
              "    }\n",
              "    80% {\n",
              "      border-color: transparent;\n",
              "      border-right-color: var(--fill-color);\n",
              "      border-bottom-color: var(--fill-color);\n",
              "    }\n",
              "    90% {\n",
              "      border-color: transparent;\n",
              "      border-bottom-color: var(--fill-color);\n",
              "    }\n",
              "  }\n",
              "</style>\n",
              "\n",
              "  <script>\n",
              "    async function quickchart(key) {\n",
              "      const quickchartButtonEl =\n",
              "        document.querySelector('#' + key + ' button');\n",
              "      quickchartButtonEl.disabled = true;  // To prevent multiple clicks.\n",
              "      quickchartButtonEl.classList.add('colab-df-spinner');\n",
              "      try {\n",
              "        const charts = await google.colab.kernel.invokeFunction(\n",
              "            'suggestCharts', [key], {});\n",
              "      } catch (error) {\n",
              "        console.error('Error during call to suggestCharts:', error);\n",
              "      }\n",
              "      quickchartButtonEl.classList.remove('colab-df-spinner');\n",
              "      quickchartButtonEl.classList.add('colab-df-quickchart-complete');\n",
              "    }\n",
              "    (() => {\n",
              "      let quickchartButtonEl =\n",
              "        document.querySelector('#df-54be0316-5eb4-46ff-9709-ecb9e3c212e9 button');\n",
              "      quickchartButtonEl.style.display =\n",
              "        google.colab.kernel.accessAllowed ? 'block' : 'none';\n",
              "    })();\n",
              "  </script>\n",
              "</div>\n",
              "\n",
              "    </div>\n",
              "  </div>\n"
            ],
            "application/vnd.google.colaboratory.intrinsic+json": {
              "type": "dataframe",
              "variable_name": "peptides_df"
            }
          },
          "metadata": {},
          "execution_count": 6
        }
      ]
    },
    {
      "cell_type": "code",
      "source": [
        "# Graficamos el número de instancias de cada categoria\n",
        "peptides_df.Activity.value_counts().plot(kind='bar')"
      ],
      "metadata": {
        "colab": {
          "base_uri": "https://localhost:8080/",
          "height": 537
        },
        "id": "ZfGvwqtdnAVW",
        "outputId": "ce409475-7991-4f25-da56-18d9aa60e58f"
      },
      "id": "ZfGvwqtdnAVW",
      "execution_count": 7,
      "outputs": [
        {
          "output_type": "execute_result",
          "data": {
            "text/plain": [
              "<Axes: xlabel='Activity'>"
            ]
          },
          "metadata": {},
          "execution_count": 7
        },
        {
          "output_type": "display_data",
          "data": {
            "text/plain": [
              "<Figure size 640x480 with 1 Axes>"
            ],
            "image/png": "[encoded data removed]"
          },
          "metadata": {}
        }
      ]
    },
    {
      "cell_type": "markdown",
      "source": [
        "Como puede observarse, la gran mayoría de ejemplos están en péptidos antifungicos, segidos por Anti-MRSA (un tipo de bacteria), seguidos por Anti-Cancer.\n",
        "\n",
        "Los datos están algo desbalanceados. Para balancearlos se hará un balanceo estratificado, pero eso significa que los tamaños de los datasets se reduzcan a niveles de las categorias que menos ejemplos tienen."
      ],
      "metadata": {
        "id": "PSbnMCF8ndRk"
      },
      "id": "PSbnMCF8ndRk"
    },
    {
      "cell_type": "markdown",
      "source": [
        "# **3. Extracción de Características**\n",
        "---"
      ],
      "metadata": {
        "id": "ZgQSjct6hqMt"
      },
      "id": "ZgQSjct6hqMt"
    },
    {
      "cell_type": "markdown",
      "source": [
        "## **3.1. Procesamiento de las cadenas de ADN**\n",
        "---"
      ],
      "metadata": {
        "id": "tOuZzB1Yh5qZ"
      },
      "id": "tOuZzB1Yh5qZ"
    },
    {
      "cell_type": "code",
      "source": [
        "# Lo primero que hacemos es convertir las secuencias a palabras de 3\n",
        "# Representando posibles codones\n",
        "peptides_as_dna = peptides_df['Peptide_as_DNA']\n",
        "# Definimos un nuevo placeholder para la nueva lista\n",
        "peptides_as_dna_codons = []\n",
        "for dna in peptides_as_dna:\n",
        "  x = []\n",
        "  for i in range(0, len(dna)-2):\n",
        "    x.append(dna[i:i+3])\n",
        "    # Convertimos a x en un string\n",
        "    X = ' '.join(x)\n",
        "  peptides_as_dna_codons.append(X)"
      ],
      "metadata": {
        "id": "1nmTDX3cnq1-"
      },
      "id": "1nmTDX3cnq1-",
      "execution_count": 8,
      "outputs": []
    },
    {
      "cell_type": "code",
      "source": [
        "# Veamos una cadena original\n",
        "peptides_as_dna[0]"
      ],
      "metadata": {
        "colab": {
          "base_uri": "https://localhost:8080/",
          "height": 35
        },
        "id": "65BZpC4PnwDk",
        "outputId": "db2827cb-5462-475a-8743-688dec4870da"
      },
      "id": "65BZpC4PnwDk",
      "execution_count": 9,
      "outputs": [
        {
          "output_type": "execute_result",
          "data": {
            "text/plain": [
              "'GGGTTTTGGACTAAAATCAAGGAGGTGGGTAAGGAGGCAGCGAAAGCGGCTGCGAAGGCAGCCGGCAAAGCCGCATTAGGCGCCGTTTGCGAGGCAGTA'"
            ],
            "application/vnd.google.colaboratory.intrinsic+json": {
              "type": "string"
            }
          },
          "metadata": {},
          "execution_count": 9
        }
      ]
    },
    {
      "cell_type": "code",
      "source": [
        "# Definimos una función para el preprocesamiento del texto convertido a trigramas (codones)\n",
        "def preprocess(text):\n",
        "    text = text.lower()\n",
        "    text = ''.join([word for word in text])\n",
        "    tokens = word_tokenize(text)\n",
        "    return ' '.join(tokens)"
      ],
      "metadata": {
        "id": "wNaOhmiQnyKr"
      },
      "id": "wNaOhmiQnyKr",
      "execution_count": 10,
      "outputs": []
    },
    {
      "cell_type": "code",
      "source": [
        "# Definimos un nuevo dataframe con la nueva representación\n",
        "zipped = list(zip(peptides_as_dna_codons, peptides_df['Activity'].to_list()))\n",
        "pepdna_df = pd.DataFrame(zipped, columns=['peptides', 'activity'])"
      ],
      "metadata": {
        "id": "_fDVUfxBnzpu"
      },
      "id": "_fDVUfxBnzpu",
      "execution_count": 11,
      "outputs": []
    },
    {
      "cell_type": "code",
      "source": [
        "# Verificamos la nueva representación\n",
        "pepdna_df.head(5)"
      ],
      "metadata": {
        "colab": {
          "base_uri": "https://localhost:8080/",
          "height": 206
        },
        "id": "hpGf7hAWn1BU",
        "outputId": "f36434c5-cc62-4592-e134-8280b330eef0"
      },
      "id": "hpGf7hAWn1BU",
      "execution_count": 12,
      "outputs": [
        {
          "output_type": "execute_result",
          "data": {
            "text/plain": [
              "                                            peptides     activity\n",
              "0  GGG GGT GTT TTT TTT TTG TGG GGA GAC ACT CTA TA...  Anti_Cancer\n",
              "1  GGG GGT GTT TTA TAT ATG TGG GGA GAG AGG GGA GA...  Anti_Cancer\n",
              "2  GGC GCC CCT CTG TGT GTG TGG GGT GTC TCG CGA GA...  Anti_Cancer\n",
              "3  GGA GAC ACT CTT TTT TTG TGG GGT GTC TCG CGA GA...  Anti_Cancer\n",
              "4  GGG GGC GCT CTA TAT ATG TGG GGA GAG AGT GTA TA...  Anti_Cancer"
            ],
            "text/html": [
              "\n",
              "  <div id=\"df-0ca7b9b4-e8ca-4fee-a69a-90f2ac295698\" class=\"colab-df-container\">\n",
              "    <div>\n",
              "<style scoped>\n",
              "    .dataframe tbody tr th:only-of-type {\n",
              "        vertical-align: middle;\n",
              "    }\n",
              "\n",
              "    .dataframe tbody tr th {\n",
              "        vertical-align: top;\n",
              "    }\n",
              "\n",
              "    .dataframe thead th {\n",
              "        text-align: right;\n",
              "    }\n",
              "</style>\n",
              "<table border=\"1\" class=\"dataframe\">\n",
              "  <thead>\n",
              "    <tr style=\"text-align: right;\">\n",
              "      <th></th>\n",
              "      <th>peptides</th>\n",
              "      <th>activity</th>\n",
              "    </tr>\n",
              "  </thead>\n",
              "  <tbody>\n",
              "    <tr>\n",
              "      <th>0</th>\n",
              "      <td>GGG GGT GTT TTT TTT TTG TGG GGA GAC ACT CTA TA...</td>\n",
              "      <td>Anti_Cancer</td>\n",
              "    </tr>\n",
              "    <tr>\n",
              "      <th>1</th>\n",
              "      <td>GGG GGT GTT TTA TAT ATG TGG GGA GAG AGG GGA GA...</td>\n",
              "      <td>Anti_Cancer</td>\n",
              "    </tr>\n",
              "    <tr>\n",
              "      <th>2</th>\n",
              "      <td>GGC GCC CCT CTG TGT GTG TGG GGT GTC TCG CGA GA...</td>\n",
              "      <td>Anti_Cancer</td>\n",
              "    </tr>\n",
              "    <tr>\n",
              "      <th>3</th>\n",
              "      <td>GGA GAC ACT CTT TTT TTG TGG GGT GTC TCG CGA GA...</td>\n",
              "      <td>Anti_Cancer</td>\n",
              "    </tr>\n",
              "    <tr>\n",
              "      <th>4</th>\n",
              "      <td>GGG GGC GCT CTA TAT ATG TGG GGA GAG AGT GTA TA...</td>\n",
              "      <td>Anti_Cancer</td>\n",
              "    </tr>\n",
              "  </tbody>\n",
              "</table>\n",
              "</div>\n",
              "    <div class=\"colab-df-buttons\">\n",
              "\n",
              "  <div class=\"colab-df-container\">\n",
              "    <button class=\"colab-df-convert\" onclick=\"convertToInteractive('df-0ca7b9b4-e8ca-4fee-a69a-90f2ac295698')\"\n",
              "            title=\"Convert this dataframe to an interactive table.\"\n",
              "            style=\"display:none;\">\n",
              "\n",
              "  <svg xmlns=\"http://www.w3.org/2000/svg\" height=\"24px\" viewBox=\"0 -960 960 960\">\n",
              "    <path d=\"M120-120v-720h720v720H120Zm60-500h600v-160H180v160Zm220 220h160v-160H400v160Zm0 220h160v-160H400v160ZM180-400h160v-160H180v160Zm440 0h160v-160H620v160ZM180-180h160v-160H180v160Zm440 0h160v-160H620v160Z\"/>\n",
              "  </svg>\n",
              "    </button>\n",
              "\n",
              "  <style>\n",
              "    .colab-df-container {\n",
              "      display:flex;\n",
              "      gap: 12px;\n",
              "    }\n",
              "\n",
              "    .colab-df-convert {\n",
              "      background-color: #E8F0FE;\n",
              "      border: none;\n",
              "      border-radius: 50%;\n",
              "      cursor: pointer;\n",
              "      display: none;\n",
              "      fill: #1967D2;\n",
              "      height: 32px;\n",
              "      padding: 0 0 0 0;\n",
              "      width: 32px;\n",
              "    }\n",
              "\n",
              "    .colab-df-convert:hover {\n",
              "      background-color: #E2EBFA;\n",
              "      box-shadow: 0px 1px 2px rgba(60, 64, 67, 0.3), 0px 1px 3px 1px rgba(60, 64, 67, 0.15);\n",
              "      fill: #174EA6;\n",
              "    }\n",
              "\n",
              "    .colab-df-buttons div {\n",
              "      margin-bottom: 4px;\n",
              "    }\n",
              "\n",
              "    [theme=dark] .colab-df-convert {\n",
              "      background-color: #3B4455;\n",
              "      fill: #D2E3FC;\n",
              "    }\n",
              "\n",
              "    [theme=dark] .colab-df-convert:hover {\n",
              "      background-color: #434B5C;\n",
              "      box-shadow: 0px 1px 3px 1px rgba(0, 0, 0, 0.15);\n",
              "      filter: drop-shadow(0px 1px 2px rgba(0, 0, 0, 0.3));\n",
              "      fill: #FFFFFF;\n",
              "    }\n",
              "  </style>\n",
              "\n",
              "    <script>\n",
              "      const buttonEl =\n",
              "        document.querySelector('#df-0ca7b9b4-e8ca-4fee-a69a-90f2ac295698 button.colab-df-convert');\n",
              "      buttonEl.style.display =\n",
              "        google.colab.kernel.accessAllowed ? 'block' : 'none';\n",
              "\n",
              "      async function convertToInteractive(key) {\n",
              "        const element = document.querySelector('#df-0ca7b9b4-e8ca-4fee-a69a-90f2ac295698');\n",
              "        const dataTable =\n",
              "          await google.colab.kernel.invokeFunction('convertToInteractive',\n",
              "                                                    [key], {});\n",
              "        if (!dataTable) return;\n",
              "\n",
              "        const docLinkHtml = 'Like what you see? Visit the ' +\n",
              "          '<a target=\"_blank\" href=https://colab.research.google.com/notebooks/data_table.ipynb>data table notebook</a>'\n",
              "          + ' to learn more about interactive tables.';\n",
              "        element.innerHTML = '';\n",
              "        dataTable['output_type'] = 'display_data';\n",
              "        await google.colab.output.renderOutput(dataTable, element);\n",
              "        const docLink = document.createElement('div');\n",
              "        docLink.innerHTML = docLinkHtml;\n",
              "        element.appendChild(docLink);\n",
              "      }\n",
              "    </script>\n",
              "  </div>\n",
              "\n",
              "\n",
              "<div id=\"df-9d022249-1e7b-4a3d-bc09-a6e3351a145b\">\n",
              "  <button class=\"colab-df-quickchart\" onclick=\"quickchart('df-9d022249-1e7b-4a3d-bc09-a6e3351a145b')\"\n",
              "            title=\"Suggest charts\"\n",
              "            style=\"display:none;\">\n",
              "\n",
              "<svg xmlns=\"http://www.w3.org/2000/svg\" height=\"24px\"viewBox=\"0 0 24 24\"\n",
              "     width=\"24px\">\n",
              "    <g>\n",
              "        <path d=\"M19 3H5c-1.1 0-2 .9-2 2v14c0 1.1.9 2 2 2h14c1.1 0 2-.9 2-2V5c0-1.1-.9-2-2-2zM9 17H7v-7h2v7zm4 0h-2V7h2v10zm4 0h-2v-4h2v4z\"/>\n",
              "    </g>\n",
              "</svg>\n",
              "  </button>\n",
              "\n",
              "<style>\n",
              "  .colab-df-quickchart {\n",
              "      --bg-color: #E8F0FE;\n",
              "      --fill-color: #1967D2;\n",
              "      --hover-bg-color: #E2EBFA;\n",
              "      --hover-fill-color: #174EA6;\n",
              "      --disabled-fill-color: #AAA;\n",
              "      --disabled-bg-color: #DDD;\n",
              "  }\n",
              "\n",
              "  [theme=dark] .colab-df-quickchart {\n",
              "      --bg-color: #3B4455;\n",
              "      --fill-color: #D2E3FC;\n",
              "      --hover-bg-color: #434B5C;\n",
              "      --hover-fill-color: #FFFFFF;\n",
              "      --disabled-bg-color: #3B4455;\n",
              "      --disabled-fill-color: #666;\n",
              "  }\n",
              "\n",
              "  .colab-df-quickchart {\n",
              "    background-color: var(--bg-color);\n",
              "    border: none;\n",
              "    border-radius: 50%;\n",
              "    cursor: pointer;\n",
              "    display: none;\n",
              "    fill: var(--fill-color);\n",
              "    height: 32px;\n",
              "    padding: 0;\n",
              "    width: 32px;\n",
              "  }\n",
              "\n",
              "  .colab-df-quickchart:hover {\n",
              "    background-color: var(--hover-bg-color);\n",
              "    box-shadow: 0 1px 2px rgba(60, 64, 67, 0.3), 0 1px 3px 1px rgba(60, 64, 67, 0.15);\n",
              "    fill: var(--button-hover-fill-color);\n",
              "  }\n",
              "\n",
              "  .colab-df-quickchart-complete:disabled,\n",
              "  .colab-df-quickchart-complete:disabled:hover {\n",
              "    background-color: var(--disabled-bg-color);\n",
              "    fill: var(--disabled-fill-color);\n",
              "    box-shadow: none;\n",
              "  }\n",
              "\n",
              "  .colab-df-spinner {\n",
              "    border: 2px solid var(--fill-color);\n",
              "    border-color: transparent;\n",
              "    border-bottom-color: var(--fill-color);\n",
              "    animation:\n",
              "      spin 1s steps(1) infinite;\n",
              "  }\n",
              "\n",
              "  @keyframes spin {\n",
              "    0% {\n",
              "      border-color: transparent;\n",
              "      border-bottom-color: var(--fill-color);\n",
              "      border-left-color: var(--fill-color);\n",
              "    }\n",
              "    20% {\n",
              "      border-color: transparent;\n",
              "      border-left-color: var(--fill-color);\n",
              "      border-top-color: var(--fill-color);\n",
              "    }\n",
              "    30% {\n",
              "      border-color: transparent;\n",
              "      border-left-color: var(--fill-color);\n",
              "      border-top-color: var(--fill-color);\n",
              "      border-right-color: var(--fill-color);\n",
              "    }\n",
              "    40% {\n",
              "      border-color: transparent;\n",
              "      border-right-color: var(--fill-color);\n",
              "      border-top-color: var(--fill-color);\n",
              "    }\n",
              "    60% {\n",
              "      border-color: transparent;\n",
              "      border-right-color: var(--fill-color);\n",
              "    }\n",
              "    80% {\n",
              "      border-color: transparent;\n",
              "      border-right-color: var(--fill-color);\n",
              "      border-bottom-color: var(--fill-color);\n",
              "    }\n",
              "    90% {\n",
              "      border-color: transparent;\n",
              "      border-bottom-color: var(--fill-color);\n",
              "    }\n",
              "  }\n",
              "</style>\n",
              "\n",
              "  <script>\n",
              "    async function quickchart(key) {\n",
              "      const quickchartButtonEl =\n",
              "        document.querySelector('#' + key + ' button');\n",
              "      quickchartButtonEl.disabled = true;  // To prevent multiple clicks.\n",
              "      quickchartButtonEl.classList.add('colab-df-spinner');\n",
              "      try {\n",
              "        const charts = await google.colab.kernel.invokeFunction(\n",
              "            'suggestCharts', [key], {});\n",
              "      } catch (error) {\n",
              "        console.error('Error during call to suggestCharts:', error);\n",
              "      }\n",
              "      quickchartButtonEl.classList.remove('colab-df-spinner');\n",
              "      quickchartButtonEl.classList.add('colab-df-quickchart-complete');\n",
              "    }\n",
              "    (() => {\n",
              "      let quickchartButtonEl =\n",
              "        document.querySelector('#df-9d022249-1e7b-4a3d-bc09-a6e3351a145b button');\n",
              "      quickchartButtonEl.style.display =\n",
              "        google.colab.kernel.accessAllowed ? 'block' : 'none';\n",
              "    })();\n",
              "  </script>\n",
              "</div>\n",
              "\n",
              "    </div>\n",
              "  </div>\n"
            ],
            "application/vnd.google.colaboratory.intrinsic+json": {
              "type": "dataframe",
              "variable_name": "pepdna_df"
            }
          },
          "metadata": {},
          "execution_count": 12
        }
      ]
    },
    {
      "cell_type": "code",
      "source": [
        "# Convertimos las etiquetas a enteros\n",
        "# Luego, en otra celda pasaremos las etiquetas a One Hot Encoding\n",
        "# Necesitamos saber las categorías únicas, tokenizarlas y luego pasarlas a one hot encoding\n",
        "unique_labels = sorted(set(pepdna_df['activity'].to_list()))\n",
        "label2idx = {u:i for i, u in enumerate(unique_labels)}\n",
        "idx2label = np.array(unique_labels)\n",
        "# Iteramos todos los labels en el dataset y cambiamos el texto por el número correspondiente\n",
        "# Todo queda guardado en labels_as_int\n",
        "labels_as_int= []\n",
        "for label in peptides_df['Activity'].to_list():\n",
        "  label_as_int = label2idx[label]\n",
        "  labels_as_int.append(label_as_int)\n",
        "\n",
        "print(\"Categorías únicas: \", len(unique_labels))\n",
        "print(\"Número total de etiquetas en dataset: \", len(labels_as_int))"
      ],
      "metadata": {
        "colab": {
          "base_uri": "https://localhost:8080/"
        },
        "id": "YjKgfy6hn3UX",
        "outputId": "429bd717-70b5-417e-973f-4c51e082e491"
      },
      "id": "YjKgfy6hn3UX",
      "execution_count": 13,
      "outputs": [
        {
          "output_type": "stream",
          "name": "stdout",
          "text": [
            "Categorías únicas:  4\n",
            "Número total de etiquetas en dataset:  243412\n"
          ]
        }
      ]
    },
    {
      "cell_type": "code",
      "source": [
        "# En X dejamos las secuencias\n",
        "X = pepdna_df['peptides']"
      ],
      "metadata": {
        "id": "D8DVqLh3n5dV"
      },
      "id": "D8DVqLh3n5dV",
      "execution_count": 14,
      "outputs": []
    },
    {
      "cell_type": "code",
      "source": [
        "# Preprocesamos las secuencias\n",
        "X = X.apply(preprocess)"
      ],
      "metadata": {
        "id": "0Gjpe9uUn9H0"
      },
      "id": "0Gjpe9uUn9H0",
      "execution_count": 15,
      "outputs": []
    },
    {
      "cell_type": "markdown",
      "source": [
        "## **3.2. Implementación del Embedding**\n",
        "---"
      ],
      "metadata": {
        "id": "0rUb-XcoiFNu"
      },
      "id": "0rUb-XcoiFNu"
    },
    {
      "cell_type": "code",
      "source": [
        "# Tokenizamos el texto\n",
        "tokenizer = Tokenizer()\n",
        "tokenizer.fit_on_texts(X)"
      ],
      "metadata": {
        "id": "CkrhfZtA-ZoI"
      },
      "execution_count": 16,
      "outputs": [],
      "id": "CkrhfZtA-ZoI"
    },
    {
      "cell_type": "code",
      "source": [
        "# Determinamos el tamaño del vocabulario\n",
        "# Esto lo necesitaremos posteriormente para definir el embedding\n",
        "vocab_size = len(tokenizer.word_index) + 1"
      ],
      "metadata": {
        "id": "ST6UJGju-7Zi"
      },
      "execution_count": 17,
      "outputs": [],
      "id": "ST6UJGju-7Zi"
    },
    {
      "cell_type": "code",
      "source": [
        "# Vectorización de X\n",
        "X_vect = tokenizer.texts_to_sequences(X)"
      ],
      "metadata": {
        "id": "XUdtO_---xR0"
      },
      "execution_count": 18,
      "outputs": [],
      "id": "XUdtO_---xR0"
    },
    {
      "cell_type": "code",
      "source": [
        "# Longitud vectorizada del primer elemento\n",
        "len(X_vect[0])"
      ],
      "metadata": {
        "colab": {
          "base_uri": "https://localhost:8080/"
        },
        "id": "j1mKs_zJmo37",
        "outputId": "4f2b1856-f7b0-4f5a-c1f4-7c2a80c2b452"
      },
      "execution_count": 19,
      "outputs": [
        {
          "output_type": "execute_result",
          "data": {
            "text/plain": [
              "97"
            ]
          },
          "metadata": {},
          "execution_count": 19
        }
      ],
      "id": "j1mKs_zJmo37"
    },
    {
      "cell_type": "code",
      "source": [
        "# Dejamos los vectores de igual longitud\n",
        "# Adicionamos padding en caso de ser necesario\n",
        "max_length = 100\n",
        "X_vect = pad_sequences(X_vect, maxlen=max_length, padding='post')"
      ],
      "metadata": {
        "id": "KhI5CrzLBn7e"
      },
      "execution_count": 20,
      "outputs": [],
      "id": "KhI5CrzLBn7e"
    },
    {
      "cell_type": "code",
      "source": [
        "# Longitud vectorizada del primer elemento después del padding\n",
        "len(X_vect[0])"
      ],
      "metadata": {
        "colab": {
          "base_uri": "https://localhost:8080/"
        },
        "id": "MPETbbk5m1I2",
        "outputId": "055bc686-1b6d-4506-a8b5-5637a9a3b68e"
      },
      "execution_count": 21,
      "outputs": [
        {
          "output_type": "execute_result",
          "data": {
            "text/plain": [
              "100"
            ]
          },
          "metadata": {},
          "execution_count": 21
        }
      ],
      "id": "MPETbbk5m1I2"
    },
    {
      "cell_type": "code",
      "source": [
        "# Representación vectorizada del primer elemento\n",
        "print(X_vect[0])"
      ],
      "metadata": {
        "colab": {
          "base_uri": "https://localhost:8080/"
        },
        "id": "SsLiJIBTAtss",
        "outputId": "3f3b88bd-6aa9-4622-d0f6-2b5d931ddac7"
      },
      "execution_count": 22,
      "outputs": [
        {
          "output_type": "stream",
          "name": "stdout",
          "text": [
            "[ 4 15 20  3  3 12  8  9 54 42 58 21  1  1 22 53 39 11  2 16  9 43 16 15\n",
            " 10  8  4 15 28 21  2 16  9 43 16 13 14 40 34 27 48  7  1  2 34 27 25 13\n",
            " 26 19  5 27 48  7  2 16 13 14 40 34 33 51 25 13 14 11  1  2 34 33 51 52\n",
            " 14 38 17 32 62 16 13 27 52 33 51 50 20  3 12  5 27 48 43 16 13 14 40 35\n",
            " 28  0  0  0]\n"
          ]
        }
      ],
      "id": "SsLiJIBTAtss"
    },
    {
      "cell_type": "code",
      "source": [
        "# Definimos X y y\n",
        "# Vamos a utilizar la versión vectorizada de X\n",
        "X_vect = X_vect\n",
        "y = np.array(labels_as_int) # Etiquetas en enteros"
      ],
      "metadata": {
        "id": "0Un_IonPSQGP"
      },
      "execution_count": 23,
      "outputs": [],
      "id": "0Un_IonPSQGP"
    },
    {
      "cell_type": "code",
      "source": [
        "# Creamos el modelo Word2Vec para el embedding de la primera capa del modelo\n",
        "sentences = [sentence.split() for sentence in X]\n",
        "w2v_model = Word2Vec(sentences, vector_size=100, window=5, min_count=5, workers=4)"
      ],
      "metadata": {
        "id": "Sz-wXoTt1JP1"
      },
      "execution_count": 24,
      "outputs": [],
      "id": "Sz-wXoTt1JP1"
    },
    {
      "cell_type": "code",
      "source": [
        "# Creamos la capa de embeddings\n",
        "embedding_matrix = np.zeros((vocab_size, 100))\n",
        "for word, i in tokenizer.word_index.items():\n",
        "    if word in w2v_model.wv:\n",
        "        embedding_matrix[i] = w2v_model.wv[word]"
      ],
      "metadata": {
        "id": "BVbIr4_N_TGO"
      },
      "execution_count": 25,
      "outputs": [],
      "id": "BVbIr4_N_TGO"
    },
    {
      "cell_type": "code",
      "source": [
        "# Creamos las particiones de datos\n",
        "X_temp, X_test, y_temp, y_test = train_test_split(X_vect, y, test_size=0.2, random_state = 5, stratify = y)\n",
        "X_train, X_val, y_train, y_val = train_test_split(X_temp, y_temp, test_size=0.25, random_state = 5, stratify = y_temp)\n",
        "print(f\"Documentos de entrenamiento: {X_train.shape[0]}\")\n",
        "print(f\"Documentos de validación: {X_val.shape[0]}\")\n",
        "print(f\"Documentos de test: {X_test.shape[0]}\")\n",
        "print(f\"Número de categorías: {np.unique(y_train).size}\")"
      ],
      "metadata": {
        "colab": {
          "base_uri": "https://localhost:8080/"
        },
        "id": "em5M1dQr8AQT",
        "outputId": "51f7509c-7c94-4af4-eb19-7e0158eddc7a"
      },
      "execution_count": 26,
      "outputs": [
        {
          "output_type": "stream",
          "name": "stdout",
          "text": [
            "Documentos de entrenamiento: 146046\n",
            "Documentos de validación: 48683\n",
            "Documentos de test: 48683\n",
            "Número de categorías: 4\n"
          ]
        }
      ],
      "id": "em5M1dQr8AQT"
    },
    {
      "cell_type": "code",
      "source": [
        "# Codificamos las etiquetas de \"y\" (que son enteros a one hot encoding) - cod after\n",
        "yHot_train = tf.keras.utils.to_categorical(y_train)\n",
        "yHot_val = tf.keras.utils.to_categorical(y_val)\n",
        "yHot_test = tf.keras.utils.to_categorical(y_test)"
      ],
      "metadata": {
        "id": "4w7N7kpbz2nC"
      },
      "execution_count": 27,
      "outputs": [],
      "id": "4w7N7kpbz2nC"
    },
    {
      "cell_type": "markdown",
      "source": [
        "# **4. Modelamiento y Evaluación**\n",
        "---"
      ],
      "metadata": {
        "id": "khhF3dwKni0x"
      },
      "id": "khhF3dwKni0x"
    },
    {
      "cell_type": "markdown",
      "source": [
        "\n",
        "## **4.1. Entrenamiento y validación de modelo con convoluciones 1D**\n",
        "---"
      ],
      "metadata": {
        "id": "nEsRDa-oJn83"
      },
      "id": "nEsRDa-oJn83"
    },
    {
      "cell_type": "markdown",
      "source": [
        "### **4.1.1. Implementación del modelo**"
      ],
      "metadata": {
        "id": "0XV3RdInqKKf"
      },
      "id": "0XV3RdInqKKf"
    },
    {
      "cell_type": "code",
      "source": [
        "# Definimos el primer modelo con convoluciones 1D\n",
        "# La capa de salida es softmax con un tamaño de 4\n",
        "# Igual el número de categorias de clasificación\n",
        "model = Sequential()\n",
        "model.add(Embedding(vocab_size, 100, weights=[embedding_matrix], input_length=100, trainable=False))\n",
        "model.add(Conv1D(128, 5, activation='relu'))\n",
        "model.add(MaxPooling1D(5))\n",
        "model.add(Conv1D(128, 5, activation='relu'))\n",
        "model.add(MaxPooling1D(5))\n",
        "model.add(Flatten())\n",
        "model.add(Dense(128, activation='relu'))\n",
        "model.add(Dense(4, activation=\"softmax\"))"
      ],
      "metadata": {
        "id": "P4p9ttvgqKK0"
      },
      "execution_count": 28,
      "outputs": [],
      "id": "P4p9ttvgqKK0"
    },
    {
      "cell_type": "code",
      "source": [
        "# Generamos un resumen del modelo\n",
        "model.summary()"
      ],
      "metadata": {
        "colab": {
          "base_uri": "https://localhost:8080/"
        },
        "outputId": "24256be8-d74c-435c-ac68-d9fe56867340",
        "id": "xkk3RLSIqKK0"
      },
      "execution_count": 29,
      "outputs": [
        {
          "output_type": "stream",
          "name": "stdout",
          "text": [
            "Model: \"sequential\"\n",
            "_________________________________________________________________\n",
            " Layer (type)                Output Shape              Param #   \n",
            "=================================================================\n",
            " embedding (Embedding)       (None, 100, 100)          6500      \n",
            "                                                                 \n",
            " conv1d (Conv1D)             (None, 96, 128)           64128     \n",
            "                                                                 \n",
            " max_pooling1d (MaxPooling1  (None, 19, 128)           0         \n",
            " D)                                                              \n",
            "                                                                 \n",
            " conv1d_1 (Conv1D)           (None, 15, 128)           82048     \n",
            "                                                                 \n",
            " max_pooling1d_1 (MaxPoolin  (None, 3, 128)            0         \n",
            " g1D)                                                            \n",
            "                                                                 \n",
            " flatten (Flatten)           (None, 384)               0         \n",
            "                                                                 \n",
            " dense (Dense)               (None, 128)               49280     \n",
            "                                                                 \n",
            " dense_1 (Dense)             (None, 4)                 516       \n",
            "                                                                 \n",
            "=================================================================\n",
            "Total params: 202472 (790.91 KB)\n",
            "Trainable params: 195972 (765.52 KB)\n",
            "Non-trainable params: 6500 (25.39 KB)\n",
            "_________________________________________________________________\n"
          ]
        }
      ],
      "id": "xkk3RLSIqKK0"
    },
    {
      "cell_type": "code",
      "source": [
        "# Compilamos el modelo\n",
        "# Utilizamos categorical_crossentropy porque el problema es multiclase\n",
        "# Como optimizador utilizamos Adam\n",
        "model.compile(loss=\"categorical_crossentropy\", optimizer=tf.keras.optimizers.Adam(learning_rate=1e-3),\n",
        "                metrics=[\"accuracy\"])"
      ],
      "metadata": {
        "id": "M6N1CTs3qKK0"
      },
      "execution_count": 30,
      "outputs": [],
      "id": "M6N1CTs3qKK0"
    },
    {
      "cell_type": "code",
      "source": [
        "# Definimos callbacks y archivo para guardar el modelo que está siendo monitoreado\n",
        "# Monitoreamos la pérdida \"val_loss\"\n",
        "# En caso de que el modelo no mejore luego de ciertas épocas debería detenerse\n",
        "# el entrenamiento.\n",
        "best_callback = tf.keras.callbacks.ModelCheckpoint(filepath=\"model.h5\", monitor=\"val_loss\",\n",
        "                                                   verbose=True, save_best_only=True,\n",
        "                                                   save_weights_only=True, mode=\"min\")\n",
        "\n",
        "early_callback = tf.keras.callbacks.EarlyStopping(monitor=\"val_loss\", patience=5,\n",
        "                                                  min_delta=0.001, verbose=True)\n",
        "\n",
        "hist = model.fit(X_train, yHot_train, epochs=10, batch_size =32,\n",
        "                         validation_data=(X_val, yHot_val), callbacks=[best_callback,\n",
        "                                                                    early_callback])"
      ],
      "metadata": {
        "colab": {
          "base_uri": "https://localhost:8080/"
        },
        "outputId": "e38eb8e8-9aab-451a-988d-4d0a1402e413",
        "id": "7UDLf0tmqKK0"
      },
      "execution_count": 31,
      "outputs": [
        {
          "output_type": "stream",
          "name": "stdout",
          "text": [
            "Epoch 1/10\n",
            "4563/4564 [============================>.] - ETA: 0s - loss: 0.8179 - accuracy: 0.6762\n",
            "Epoch 1: val_loss improved from inf to 0.66296, saving model to model.h5\n",
            "4564/4564 [==============================] - 162s 35ms/step - loss: 0.8179 - accuracy: 0.6762 - val_loss: 0.6630 - val_accuracy: 0.7222\n",
            "Epoch 2/10\n",
            "4562/4564 [============================>.] - ETA: 0s - loss: 0.5677 - accuracy: 0.7532\n",
            "Epoch 2: val_loss improved from 0.66296 to 0.56737, saving model to model.h5\n",
            "4564/4564 [==============================] - 155s 34ms/step - loss: 0.5677 - accuracy: 0.7532 - val_loss: 0.5674 - val_accuracy: 0.7489\n",
            "Epoch 3/10\n",
            "4564/4564 [==============================] - ETA: 0s - loss: 0.4837 - accuracy: 0.7795\n",
            "Epoch 3: val_loss improved from 0.56737 to 0.47484, saving model to model.h5\n",
            "4564/4564 [==============================] - 160s 35ms/step - loss: 0.4837 - accuracy: 0.7795 - val_loss: 0.4748 - val_accuracy: 0.7747\n",
            "Epoch 4/10\n",
            "4564/4564 [==============================] - ETA: 0s - loss: 0.4441 - accuracy: 0.7888\n",
            "Epoch 4: val_loss improved from 0.47484 to 0.44282, saving model to model.h5\n",
            "4564/4564 [==============================] - 157s 34ms/step - loss: 0.4441 - accuracy: 0.7888 - val_loss: 0.4428 - val_accuracy: 0.7846\n",
            "Epoch 5/10\n",
            "4564/4564 [==============================] - ETA: 0s - loss: 0.4179 - accuracy: 0.7959\n",
            "Epoch 5: val_loss improved from 0.44282 to 0.44148, saving model to model.h5\n",
            "4564/4564 [==============================] - 160s 35ms/step - loss: 0.4179 - accuracy: 0.7959 - val_loss: 0.4415 - val_accuracy: 0.7849\n",
            "Epoch 6/10\n",
            "4564/4564 [==============================] - ETA: 0s - loss: 0.4001 - accuracy: 0.8014\n",
            "Epoch 6: val_loss did not improve from 0.44148\n",
            "4564/4564 [==============================] - 159s 35ms/step - loss: 0.4001 - accuracy: 0.8014 - val_loss: 0.4448 - val_accuracy: 0.7842\n",
            "Epoch 7/10\n",
            "4563/4564 [============================>.] - ETA: 0s - loss: 0.3889 - accuracy: 0.8035\n",
            "Epoch 7: val_loss improved from 0.44148 to 0.41615, saving model to model.h5\n",
            "4564/4564 [==============================] - 157s 34ms/step - loss: 0.3889 - accuracy: 0.8035 - val_loss: 0.4162 - val_accuracy: 0.7894\n",
            "Epoch 8/10\n",
            "4563/4564 [============================>.] - ETA: 0s - loss: 0.3796 - accuracy: 0.8057\n",
            "Epoch 8: val_loss did not improve from 0.41615\n",
            "4564/4564 [==============================] - 151s 33ms/step - loss: 0.3796 - accuracy: 0.8056 - val_loss: 0.4234 - val_accuracy: 0.7869\n",
            "Epoch 9/10\n",
            "4563/4564 [============================>.] - ETA: 0s - loss: 0.3745 - accuracy: 0.8069\n",
            "Epoch 9: val_loss improved from 0.41615 to 0.40566, saving model to model.h5\n",
            "4564/4564 [==============================] - 145s 32ms/step - loss: 0.3745 - accuracy: 0.8069 - val_loss: 0.4057 - val_accuracy: 0.7901\n",
            "Epoch 10/10\n",
            "4562/4564 [============================>.] - ETA: 0s - loss: 0.3681 - accuracy: 0.8090\n",
            "Epoch 10: val_loss did not improve from 0.40566\n",
            "4564/4564 [==============================] - 148s 32ms/step - loss: 0.3682 - accuracy: 0.8089 - val_loss: 0.4189 - val_accuracy: 0.7891\n"
          ]
        }
      ],
      "id": "7UDLf0tmqKK0"
    },
    {
      "cell_type": "code",
      "source": [
        "# Graficamos la función de pérdida para las\n",
        "# particiones de entrenamiento y validación\n",
        "plt.figure(figsize=(8, 8))\n",
        "plt.plot(hist.history[\"loss\"], \"r\", label=\"Entrenamiento\")\n",
        "plt.plot(hist.history[\"val_loss\"], \"r--\", label=\"Validación\")\n",
        "plt.legend(); plt.xlabel(\"Épocas\"); plt.ylabel(\"Pérdida\")"
      ],
      "metadata": {
        "colab": {
          "base_uri": "https://localhost:8080/",
          "height": 716
        },
        "outputId": "807fa0bd-b8cd-436b-8da8-58420c4e1ee2",
        "id": "dTTiFJTeqKK1"
      },
      "execution_count": 32,
      "outputs": [
        {
          "output_type": "execute_result",
          "data": {
            "text/plain": [
              "Text(0, 0.5, 'Pérdida')"
            ]
          },
          "metadata": {},
          "execution_count": 32
        },
        {
          "output_type": "display_data",
          "data": {
            "text/plain": [
              "<Figure size 800x800 with 1 Axes>"
            ],
            "image/png": "[encoded data removed]"
          },
          "metadata": {}
        }
      ],
      "id": "dTTiFJTeqKK1"
    },
    {
      "cell_type": "markdown",
      "source": [
        "### **4.1.2. Evaluación del modelo**\n",
        "---"
      ],
      "metadata": {
        "id": "d5k6YL1_qKK1"
      },
      "id": "d5k6YL1_qKK1"
    },
    {
      "cell_type": "code",
      "source": [
        "# Generamos el reporte de clasificación\n",
        "# Este classification report es mañoso, y_test debe ser el original y no el Hot Encoded\n",
        "print(classification_report(y_test, np.argmax(model.predict(X_test),axis=1)))"
      ],
      "metadata": {
        "colab": {
          "base_uri": "https://localhost:8080/"
        },
        "id": "B8NNXb3GqKK1",
        "outputId": "4d54d50c-8416-455e-bc8a-a85205b41dec"
      },
      "execution_count": 33,
      "outputs": [
        {
          "output_type": "stream",
          "name": "stdout",
          "text": [
            "1522/1522 [==============================] - 16s 11ms/step\n",
            "              precision    recall  f1-score   support\n",
            "\n",
            "           0       0.62      0.61      0.62      5866\n",
            "           1       0.82      0.89      0.85     28616\n",
            "           2       0.80      0.69      0.74      9321\n",
            "           3       0.76      0.61      0.68      4880\n",
            "\n",
            "    accuracy                           0.79     48683\n",
            "   macro avg       0.75      0.70      0.72     48683\n",
            "weighted avg       0.79      0.79      0.79     48683\n",
            "\n"
          ]
        }
      ],
      "id": "B8NNXb3GqKK1"
    },
    {
      "cell_type": "markdown",
      "source": [
        "# **5. Resultados**\n",
        "---"
      ],
      "metadata": {
        "id": "EIuLOUf8UyGs"
      },
      "id": "EIuLOUf8UyGs"
    },
    {
      "cell_type": "markdown",
      "source": [
        "\n",
        "**5.1 Resultados con convoluciones 1D**\n",
        "*   El resultado nos muestra un accuracy de aproximadamente 0.8. Esto también se puede evidenciar durante la fase de entrenamiento del modelo, donde el modelo alcanza un \"plateau\" de 0.8. El hecho de que el accuracy no suba de este punto se debe probablemente a que hay péptidos en más de una cartegoría. Es decir que no son mutuamente exclusivos. Esta es una posible razón de por qué el modelo llega sólo hasta ese punto.\n",
        "\n",
        "**5.2 Resultados con convoluciones 2D**\n",
        "*   En este caso el accuracy del modelo no subió de 0.63 y finalizó con early stopping en vista de que no mejoraba. Posibles razones del pobre desempeño del modelo pueden tener que ver con la matriz de 10 x 10 que representa cada péptido. La matriz es muy pequeña y las convoluciones que se aplican a esta matriz no son demasiadas, generando modelos con muy pocos datos. Segun esto, la representación de secuencias cortas con modelos convolucionales 2d es poco eficiente.\n",
        "\n",
        "**5.3 Resultados con modelo pre entrenado EfficientNet y Transfer Learning**\n",
        "*   En este caso tuvimos un accuracy un tanto peor que el el modelo de convoluciones 2d. Esto posiblemente esté relacionado con el hecho de que la representación de las secuencias resulta en matrices de pequeño tamaño, las cuales son mejor analizables por convoluciones 1D. En el caso de EfficientNet tenemos representaciones que necesariamente van en tres canales, resultando en matrices con muchos ceros, lo que no es eficiente al momento de representar secuencias biológicas. Se puede concluir que para clasificación es superior el concepto de convoluciones 1D, seguido por convoluciones 2D con un sólo canal, seguido por modelos con convoluciones 2D pero que utilizan más de un canal. También se demuestra que el concepto de transfer learning es utilizable con conceptos tan distantes como una imágen y una secuencia biológica, a pesar de que su eficiencia en este caso no fue la óptima. Con seguridad fuentes de información de secuencia de ADN con mayor información, como lo es el caso de genomas completos, den mejores resultados con estos modelos.\n",
        "\n"
      ],
      "metadata": {
        "id": "8TN0jl-nrXL6"
      },
      "id": "8TN0jl-nrXL6"
    }
  ],
  "metadata": {
    "colab": {
      "provenance": []
    },
    "jupytext": {
      "cell_metadata_filter": "-all"
    },
    "kernelspec": {
      "display_name": "Python 3 (ipykernel)",
      "language": "python",
      "name": "python3"
    },
    "language_info": {
      "codemirror_mode": {
        "name": "ipython",
        "version": 3
      },
      "file_extension": ".py",
      "mimetype": "text/x-python",
      "name": "python",
      "nbconvert_exporter": "python",
      "pygments_lexer": "ipython3",
      "version": "3.10.11"
    }
  },
  "nbformat": 4,
  "nbformat_minor": 5
}